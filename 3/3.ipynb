{
 "cells": [
  {
   "cell_type": "markdown",
   "metadata": {},
   "source": [
    "# 第3章: 正規表現"
   ]
  },
  {
   "cell_type": "markdown",
   "metadata": {},
   "source": [
    "Wikipediaの記事を以下のフォーマットで書き出したファイルjawiki-country.json.gzがある．\n",
    "\n",
    "1行に1記事の情報がJSON形式で格納される\n",
    "各行には記事名が”title”キーに，記事本文が”text”キーの辞書オブジェクトに格納され，そのオブジェクトがJSON形式で書き出される\n",
    "ファイル全体はgzipで圧縮される\n",
    "以下の処理を行うプログラムを作成せよ．"
   ]
  },
  {
   "cell_type": "code",
   "execution_count": 1,
   "metadata": {},
   "outputs": [
    {
     "name": "stdout",
     "output_type": "stream",
     "text": [
      "--2020-04-14 08:16:21--  https://nlp100.github.io/data/jawiki-country.json.gz\n",
      "nlp100.github.io (nlp100.github.io) をDNSに問いあわせています... 185.199.109.153, 185.199.108.153, 185.199.110.153, ...\n",
      "nlp100.github.io (nlp100.github.io)|185.199.109.153|:443 に接続しています... 接続しました。\n",
      "HTTP による接続要求を送信しました、応答を待っています... 200 OK\n",
      "長さ: 5068362 (4.8M) [application/gzip]\n",
      "`jawiki-country.json.gz' に保存中\n",
      "\n",
      "jawiki-country.json 100%[===================>]   4.83M  2.93MB/s 時間 1.7s     \n",
      "\n",
      "2020-04-14 08:16:24 (2.93 MB/s) - `jawiki-country.json.gz' へ保存完了 [5068362/5068362]\n",
      "\n"
     ]
    }
   ],
   "source": [
    "!wget https://nlp100.github.io/data/jawiki-country.json.gz"
   ]
  },
  {
   "cell_type": "markdown",
   "metadata": {},
   "source": [
    "## 20. JSONデータの読み込み\n",
    "Wikipedia記事のJSONファイルを読み込み，「イギリス」に関する記事本文を表示せよ．問題21-29では，ここで抽出した記事本文に対して実行せよ．"
   ]
  },
  {
   "cell_type": "code",
   "execution_count": 36,
   "metadata": {},
   "outputs": [],
   "source": [
    "import gzip, json, re\n",
    "with gzip.open('jawiki-country.json.gz', 'rt') as f:\n",
    "    data = f.read()\n",
    "uk = [json.loads(line) for line in data.split('\\n') if len(line) > 1 and json.loads(line)['title'] == 'イギリス'][0]"
   ]
  },
  {
   "cell_type": "markdown",
   "metadata": {},
   "source": [
    "## 21. カテゴリ名を含む行を抽出\n",
    "記事中でカテゴリ名を宣言している行を抽出せよ．"
   ]
  },
  {
   "cell_type": "code",
   "execution_count": 52,
   "metadata": {},
   "outputs": [
    {
     "data": {
      "text/plain": [
       "['[[Category:イギリス|*]]',\n",
       " '[[Category:イギリス連邦加盟国]]',\n",
       " '[[Category:英連邦王国|*]]',\n",
       " '[[Category:G8加盟国]]',\n",
       " '[[Category:欧州連合加盟国|元]]',\n",
       " '[[Category:海洋国家]]',\n",
       " '[[Category:現存する君主国]]',\n",
       " '[[Category:島国]]',\n",
       " '[[Category:1801年に成立した国家・領域]]']"
      ]
     },
     "execution_count": 52,
     "metadata": {},
     "output_type": "execute_result"
    }
   ],
   "source": [
    "# [[Category:欧州連合加盟国|元]] これのこと？\n",
    "pattern = '\\[\\[Category.*'\n",
    "matches = [line for line in uk['text'].split('\\n') if re.match(pattern, line)]\n",
    "matches"
   ]
  },
  {
   "cell_type": "markdown",
   "metadata": {},
   "source": [
    "## 22. カテゴリ名の抽出\n",
    "記事のカテゴリ名を（行単位ではなく名前で）抽出せよ．"
   ]
  },
  {
   "cell_type": "code",
   "execution_count": 100,
   "metadata": {},
   "outputs": [
    {
     "data": {
      "text/plain": [
       "['イギリス',\n",
       " 'イギリス連邦加盟国',\n",
       " '英連邦王国',\n",
       " 'G8加盟国',\n",
       " '欧州連合加盟国',\n",
       " '海洋国家',\n",
       " '現存する君主国',\n",
       " '島国',\n",
       " '1801年に成立した国家・領域']"
      ]
     },
     "execution_count": 100,
     "metadata": {},
     "output_type": "execute_result"
    }
   ],
   "source": [
    "[re.search('\\[\\[Category:(.+?)(\\|.*)?\\]\\]', line).groups()[0] for line in matches]"
   ]
  },
  {
   "cell_type": "markdown",
   "metadata": {},
   "source": [
    "## 23. セクション構造\n",
    "記事中に含まれるセクション名とそのレベル（例えば”== セクション名 ==”なら1）を表示せよ．"
   ]
  },
  {
   "cell_type": "code",
   "execution_count": 101,
   "metadata": {},
   "outputs": [
    {
     "data": {
      "text/plain": [
       "['国名 is level 2.',\n",
       " '歴史 is level 2.',\n",
       " '地理 is level 2.',\n",
       " '主要都市 is level 3.',\n",
       " '気候 is level 3.',\n",
       " '政治 is level 2.',\n",
       " '元首 is level 3.',\n",
       " '法 is level 3.',\n",
       " '内政 is level 3.',\n",
       " '地方行政区分 is level 3.',\n",
       " '外交・軍事 is level 3.',\n",
       " '経済 is level 2.',\n",
       " '鉱業 is level 3.',\n",
       " '農業 is level 3.',\n",
       " '貿易 is level 3.',\n",
       " '不動産 is level 3.',\n",
       " 'エネルギー政策 is level 3.',\n",
       " '通貨 is level 3.',\n",
       " '企業 is level 3.',\n",
       " '通信 is level 4.',\n",
       " '交通 is level 2.',\n",
       " '道路 is level 3.',\n",
       " '鉄道 is level 3.',\n",
       " '海運 is level 3.',\n",
       " '航空 is level 3.',\n",
       " '科学技術 is level 2.',\n",
       " '国民 is level 2.',\n",
       " '言語 is level 3.',\n",
       " '宗教 is level 3.',\n",
       " '婚姻 is level 3.',\n",
       " '移住 is level 3.',\n",
       " '教育 is level 3.',\n",
       " '医療 is level 3.',\n",
       " '文化 is level 2.',\n",
       " '食文化 is level 3.',\n",
       " '文学 is level 3.',\n",
       " '哲学 is level 3.',\n",
       " '音楽 is level 3.',\n",
       " 'ポピュラー音楽 is level 4.',\n",
       " '映画 is level 3.',\n",
       " 'コメディ is level 3.',\n",
       " '国花 is level 3.',\n",
       " '世界遺産 is level 3.',\n",
       " '祝祭日 is level 3.',\n",
       " 'スポーツ is level 3.',\n",
       " 'サッカー is level 4.',\n",
       " 'クリケット is level 4.',\n",
       " '競馬 is level 4.',\n",
       " 'モータースポーツ is level 4.',\n",
       " '野球 is level 4.',\n",
       " ' カーリング  is level 4.',\n",
       " ' 自転車競技  is level 4.',\n",
       " '脚注 is level 2.',\n",
       " '関連項目 is level 2.',\n",
       " '外部リンク is level 2.']"
      ]
     },
     "execution_count": 101,
     "metadata": {},
     "output_type": "execute_result"
    }
   ],
   "source": [
    "['{} is level {}.'.format(re.search('(=+)(.*?)=+', line).groups()[1], len(re.search('(=+)(.*?)=+', line).groups()[0])) for line in uk['text'].split('\\n') if re.match('=[1,]?.*?=[1,]?', line)]"
   ]
  },
  {
   "cell_type": "markdown",
   "metadata": {},
   "source": [
    "# 24. ファイル参照の抽出\n",
    "記事から参照されているメディアファイルをすべて抜き出せ．"
   ]
  },
  {
   "cell_type": "code",
   "execution_count": 132,
   "metadata": {},
   "outputs": [
    {
     "data": {
      "text/plain": [
       "[('Descriptio Prime Tabulae Europae.jpg',),\n",
       " (\"Lenepveu, Jeanne d'Arc au siège d'Orléans.jpg\",),\n",
       " ('London.bankofengland.arp.jpg',),\n",
       " ('Battle of Waterloo 1815.PNG',),\n",
       " ('Uk topo en.jpg',),\n",
       " ('BenNevis2005.jpg',),\n",
       " ('Population density UK 2011 census.png',),\n",
       " ('2019 Greenwich Peninsula & Canary Wharf.jpg',),\n",
       " ('Leeds CBD at night.jpg',),\n",
       " ('Palace of Westminster, London - Feb 2007.jpg',),\n",
       " ('Scotland Parliament Holyrood.jpg',),\n",
       " ('Donald Trump and Theresa May (33998675310) (cropped).jpg',),\n",
       " ('Soldiers Trooping the Colour, 16th June 2007.jpg',),\n",
       " ('City of London skyline from London City Hall - Oct 2008.jpg',),\n",
       " ('Oil platform in the North SeaPros.jpg',),\n",
       " ('Eurostar at St Pancras Jan 2008.jpg',),\n",
       " ('Heathrow Terminal 5C Iwelumo-1.jpg',),\n",
       " ('UKpop.svg',),\n",
       " ('Anglospeak.svg',),\n",
       " (\"Royal Aberdeen Children's Hospital.jpg\",),\n",
       " ('CHANDOS3.jpg',),\n",
       " ('The Fabs.JPG',),\n",
       " ('Wembley Stadium, illuminated.jpg',)]"
      ]
     },
     "execution_count": 132,
     "metadata": {},
     "output_type": "execute_result"
    }
   ],
   "source": [
    "[re.search('\\[\\[ファイル:(.*?)\\|', line).groups() for line in uk['text'].split('\\n') if re.match('\\[\\[ファイル.*', line)]"
   ]
  },
  {
   "cell_type": "markdown",
   "metadata": {},
   "source": [
    "## 25. テンプレートの抽出\n",
    "記事中に含まれる「基礎情報」テンプレートのフィールド名と値を抽出し，辞書オブジェクトとして格納せよ．"
   ]
  },
  {
   "cell_type": "code",
   "execution_count": 202,
   "metadata": {},
   "outputs": [
    {
     "data": {
      "text/plain": [
       "{'公式国名': '{{lang|en|United Kingdom of Great Britain and Northern Ireland}}<ref>英語以外での正式国名:<br />',\n",
       " '国旗画像': 'Flag of the United Kingdom.svg',\n",
       " '国章リンク': '（[[イギリスの国章|国章]]）',\n",
       " '国章画像': '[[ファイル:Royal Coat of Arms of the United Kingdom.svg|85px|イギリスの国章]]',\n",
       " '日本語国名': 'グレートブリテン及び北アイルランド連合王国',\n",
       " '標語': '{{lang|fr|[[Dieu et mon droit]]}}<br />（[[フランス語]]:[[Dieu et mon droit|神と我が権利]]）',\n",
       " '略名': 'イギリス'}"
      ]
     },
     "execution_count": 202,
     "metadata": {},
     "output_type": "execute_result"
    }
   ],
   "source": [
    "dist = {i[0]: i[1].strip() for i in re.findall('\\|(.*?) +=(.*?)\\n', re.findall('^\\{\\{基礎情報(.*?)\\}\\}$', uk['text'], re.MULTILINE + re.DOTALL)[0])}\n",
    "dist"
   ]
  },
  {
   "cell_type": "markdown",
   "metadata": {},
   "source": [
    "## 26. 強調マークアップの除去\n",
    "25の処理時に，テンプレートの値からMediaWikiの強調マークアップ（弱い強調，強調，強い強調のすべて）を除去してテキストに変換せよ（参考: マークアップ早見表）"
   ]
  },
  {
   "cell_type": "code",
   "execution_count": 211,
   "metadata": {},
   "outputs": [
    {
     "data": {
      "text/plain": [
       "{'公式国名': ' lang en United Kingdom of Great Britain and Northern Ireland  英語以外での正式国名: ',\n",
       " '国旗画像': 'Flag of the United Kingdom.svg',\n",
       " '国章リンク': '（ イギリスの国章 国章 ）',\n",
       " '国章画像': ' ファイル:Royal Coat of Arms of the United Kingdom.svg 85px イギリスの国章 ',\n",
       " '日本語国名': 'グレートブリテン及び北アイルランド連合王国',\n",
       " '標語': ' lang fr  Dieu et mon droit   （ フランス語 : Dieu et mon droit 神と我が権利 ）',\n",
       " '略名': 'イギリス'}"
      ]
     },
     "execution_count": 211,
     "metadata": {},
     "output_type": "execute_result"
    }
   ],
   "source": [
    "{k: re.sub('{{|<.*?>|}}|\\||\\[\\[|\\]\\]', ' ', v) for k, v in dist.items()}"
   ]
  },
  {
   "cell_type": "markdown",
   "metadata": {},
   "source": [
    "## 27. 内部リンクの除去\n",
    "26の処理に加えて，テンプレートの値からMediaWikiの内部リンクマークアップを除去し，テキストに変換せよ（参考: マークアップ早見表）．"
   ]
  },
  {
   "cell_type": "markdown",
   "metadata": {},
   "source": [
    "26 でマークアップすべて消したのでスキップ"
   ]
  },
  {
   "cell_type": "markdown",
   "metadata": {},
   "source": [
    "## 28. MediaWikiマークアップの除去\n",
    "27の処理に加えて，テンプレートの値からMediaWikiマークアップを可能な限り除去し，国の基本情報を整形せよ．"
   ]
  },
  {
   "cell_type": "markdown",
   "metadata": {},
   "source": [
    "## 29. 国旗画像のURLを取得する\n",
    "テンプレートの内容を利用し，国旗画像のURLを取得せよ．（ヒント: MediaWiki APIのimageinfoを呼び出して，ファイル参照をURLに変換すればよい）"
   ]
  },
  {
   "cell_type": "code",
   "execution_count": 231,
   "metadata": {},
   "outputs": [
    {
     "data": {
      "image/svg+xml": [
       "<svg height=\"600\" viewBox=\"0 0 60 30\" width=\"1200\" xmlns=\"http://www.w3.org/2000/svg\">\n",
       "<clipPath id=\"s\">\n",
       "\t<path d=\"M0,0 v30 h60 v-30 z\"/>\n",
       "</clipPath>\n",
       "<clipPath id=\"t\">\n",
       "\t<path d=\"M30,15 h30 v15 z v15 h-30 z h-30 v-15 z v-15 h30 z\"/>\n",
       "</clipPath>\n",
       "<g clip-path=\"url(#s)\">\n",
       "\t<path d=\"M0,0 v30 h60 v-30 z\" fill=\"#012169\"/>\n",
       "\t<path d=\"M0,0 L60,30 M60,0 L0,30\" stroke=\"#fff\" stroke-width=\"6\"/>\n",
       "\t<path clip-path=\"url(#t)\" d=\"M0,0 L60,30 M60,0 L0,30\" stroke=\"#C8102E\" stroke-width=\"4\"/>\n",
       "\t<path d=\"M30,0 v30 M0,15 h60\" stroke=\"#fff\" stroke-width=\"10\"/>\n",
       "\t<path d=\"M30,0 v30 M0,15 h60\" stroke=\"#C8102E\" stroke-width=\"6\"/>\n",
       "</g>\n",
       "</svg>"
      ],
      "text/plain": [
       "<IPython.core.display.SVG object>"
      ]
     },
     "execution_count": 231,
     "metadata": {},
     "output_type": "execute_result"
    }
   ],
   "source": [
    "import urllib.parse\n",
    "import urllib.request\n",
    "from IPython.display import SVG\n",
    "params = {\n",
    "    'format': 'json',\n",
    "    'action': 'query',\n",
    "    'titles': \"File:{}\".format(dist['国旗画像']),\n",
    "    'prop': 'imageinfo',\n",
    "    'iiprop': 'url'\n",
    "}\n",
    "query = urllib.parse.urlencode(params)\n",
    "url = 'http://en.wikipedia.org/w/api.php?{}'.format(query)\n",
    "request = urllib.request.urlopen(url)\n",
    "response = request.read().decode('utf-8')\n",
    "SVG(re.findall('(https?\\:\\/\\/.*?.svg)', response)[0])"
   ]
  },
  {
   "cell_type": "code",
   "execution_count": null,
   "metadata": {},
   "outputs": [],
   "source": []
  }
 ],
 "metadata": {
  "kernelspec": {
   "display_name": "Python 3",
   "language": "python",
   "name": "python3"
  },
  "language_info": {
   "codemirror_mode": {
    "name": "ipython",
    "version": 3
   },
   "file_extension": ".py",
   "mimetype": "text/x-python",
   "name": "python",
   "nbconvert_exporter": "python",
   "pygments_lexer": "ipython3",
   "version": "3.5.2"
  }
 },
 "nbformat": 4,
 "nbformat_minor": 2
}
